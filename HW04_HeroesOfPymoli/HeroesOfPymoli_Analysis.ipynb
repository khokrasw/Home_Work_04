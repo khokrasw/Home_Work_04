{
 "cells": [
  {
   "cell_type": "markdown",
   "metadata": {},
   "source": [
    "### Heroes Of Pymoli Data Analysis\n",
    "* Of the 1163 active players, the vast majority are male (84%). There also exists, a smaller, but notable proportion of female players (14%).\n",
    "\n",
    "* Our peak age demographic falls between 20-24 (44.8%) with secondary groups falling between 15-19 (18.60%) and 25-29 (13.4%).  \n",
    "-----"
   ]
  },
  {
   "cell_type": "markdown",
   "metadata": {},
   "source": [
    "### Note\n",
    "* Instructions have been included for each segment. You do not have to follow them exactly, but they are included to help you think through the steps."
   ]
  },
  {
   "cell_type": "code",
   "execution_count": 76,
   "metadata": {},
   "outputs": [
    {
     "data": {
      "text/html": [
       "<div>\n",
       "<style scoped>\n",
       "    .dataframe tbody tr th:only-of-type {\n",
       "        vertical-align: middle;\n",
       "    }\n",
       "\n",
       "    .dataframe tbody tr th {\n",
       "        vertical-align: top;\n",
       "    }\n",
       "\n",
       "    .dataframe thead th {\n",
       "        text-align: right;\n",
       "    }\n",
       "</style>\n",
       "<table border=\"1\" class=\"dataframe\">\n",
       "  <thead>\n",
       "    <tr style=\"text-align: right;\">\n",
       "      <th></th>\n",
       "      <th>Purchase ID</th>\n",
       "      <th>SN</th>\n",
       "      <th>Age</th>\n",
       "      <th>Gender</th>\n",
       "      <th>Item ID</th>\n",
       "      <th>Item Name</th>\n",
       "      <th>Price</th>\n",
       "    </tr>\n",
       "  </thead>\n",
       "  <tbody>\n",
       "    <tr>\n",
       "      <th>0</th>\n",
       "      <td>0</td>\n",
       "      <td>Lisim78</td>\n",
       "      <td>20</td>\n",
       "      <td>Male</td>\n",
       "      <td>108</td>\n",
       "      <td>Extraction, Quickblade Of Trembling Hands</td>\n",
       "      <td>3.53</td>\n",
       "    </tr>\n",
       "    <tr>\n",
       "      <th>1</th>\n",
       "      <td>1</td>\n",
       "      <td>Lisovynya38</td>\n",
       "      <td>40</td>\n",
       "      <td>Male</td>\n",
       "      <td>143</td>\n",
       "      <td>Frenzied Scimitar</td>\n",
       "      <td>1.56</td>\n",
       "    </tr>\n",
       "    <tr>\n",
       "      <th>2</th>\n",
       "      <td>2</td>\n",
       "      <td>Ithergue48</td>\n",
       "      <td>24</td>\n",
       "      <td>Male</td>\n",
       "      <td>92</td>\n",
       "      <td>Final Critic</td>\n",
       "      <td>4.88</td>\n",
       "    </tr>\n",
       "    <tr>\n",
       "      <th>3</th>\n",
       "      <td>3</td>\n",
       "      <td>Chamassasya86</td>\n",
       "      <td>24</td>\n",
       "      <td>Male</td>\n",
       "      <td>100</td>\n",
       "      <td>Blindscythe</td>\n",
       "      <td>3.27</td>\n",
       "    </tr>\n",
       "    <tr>\n",
       "      <th>4</th>\n",
       "      <td>4</td>\n",
       "      <td>Iskosia90</td>\n",
       "      <td>23</td>\n",
       "      <td>Male</td>\n",
       "      <td>131</td>\n",
       "      <td>Fury</td>\n",
       "      <td>1.44</td>\n",
       "    </tr>\n",
       "  </tbody>\n",
       "</table>\n",
       "</div>"
      ],
      "text/plain": [
       "   Purchase ID             SN  Age Gender  Item ID  \\\n",
       "0            0        Lisim78   20   Male      108   \n",
       "1            1    Lisovynya38   40   Male      143   \n",
       "2            2     Ithergue48   24   Male       92   \n",
       "3            3  Chamassasya86   24   Male      100   \n",
       "4            4      Iskosia90   23   Male      131   \n",
       "\n",
       "                                   Item Name  Price  \n",
       "0  Extraction, Quickblade Of Trembling Hands   3.53  \n",
       "1                          Frenzied Scimitar   1.56  \n",
       "2                               Final Critic   4.88  \n",
       "3                                Blindscythe   3.27  \n",
       "4                                       Fury   1.44  "
      ]
     },
     "execution_count": 76,
     "metadata": {},
     "output_type": "execute_result"
    }
   ],
   "source": [
    "# Dependencies and Setup\n",
    "import pandas as pd\n",
    "import numpy as np\n",
    "from io import StringIO\n",
    "import string\n",
    "import os\n",
    "import csv\n",
    "\n",
    "\n",
    "# File to Load (Remember to Change These)\n",
    "file_to_load = \"Resources/purchase_data.csv\"\n",
    "\n",
    "# Read Purchasing File and store into Pandas data frame\n",
    "purchase_data = pd.read_csv(file_to_load)\n",
    "purchase_data.head()"
   ]
  },
  {
   "cell_type": "markdown",
   "metadata": {},
   "source": [
    "## Player Count"
   ]
  },
  {
   "cell_type": "markdown",
   "metadata": {},
   "source": [
    "* Display the total number of players\n"
   ]
  },
  {
   "cell_type": "code",
   "execution_count": 77,
   "metadata": {},
   "outputs": [
    {
     "name": "stdout",
     "output_type": "stream",
     "text": [
      "\n",
      "Total Buys/Transactions are: 780\n",
      "And Total Number of UNIQUE Buyers are: 576\n"
     ]
    }
   ],
   "source": [
    "purchase_data.count()\n",
    "total_buyers=purchase_data[\"SN\"].count()\n",
    "unq_buyers=len(purchase_data[\"SN\"].unique())\n",
    "print(f\"\\nTotal Buys/Transactions are: {total_buyers}\\nAnd Total Number of UNIQUE Buyers are: {unq_buyers}\")"
   ]
  },
  {
   "cell_type": "markdown",
   "metadata": {},
   "source": [
    "## Purchasing Analysis (Total)"
   ]
  },
  {
   "cell_type": "markdown",
   "metadata": {},
   "source": [
    "* Run basic calculations to obtain number of unique items, average price, etc.\n",
    "\n",
    "\n",
    "* Create a summary data frame to hold the results\n",
    "\n",
    "\n",
    "* Optional: give the displayed data cleaner formatting\n",
    "\n",
    "\n",
    "* Display the summary data frame\n"
   ]
  },
  {
   "cell_type": "code",
   "execution_count": 78,
   "metadata": {
    "scrolled": true
   },
   "outputs": [
    {
     "name": "stdout",
     "output_type": "stream",
     "text": [
      "\n",
      "Stats of Numerical Columns: \n",
      "\n",
      "       Purchase ID    Age  Item ID  Price\n",
      "count       780.00 780.00   780.00 780.00\n",
      "mean        389.50  22.71    92.11   3.05\n",
      "std         225.31   6.66    52.78   1.17\n",
      "min           0.00   7.00     0.00   1.00\n",
      "25%         194.75  20.00    48.00   1.98\n",
      "50%         389.50  22.00    93.00   3.15\n",
      "75%         584.25  25.00   139.00   4.08\n",
      "max         779.00  45.00   183.00   4.99\n",
      "\n",
      "\n",
      "# of Unique Items:  183 \n",
      "\n",
      "These 183 Unique Items Are Listed Below: \n",
      "\n",
      "[108 143  92 100 131  81 169 162  21 136  95 116   4 165  98  40 161  82\n",
      "  89  57 168  24 151 141 178  71  96 119  37 140 179 133  44 160  53  76\n",
      "  73 172   7  72   9 181 102 170 138 110  22  15  60 176  25  84  80 152\n",
      " 105 125  56  34   6  27  29  68 124  88  20  50 174  12  33 129  17  59\n",
      "  39 164 134 101 109  10  54  99  85 139  41 150  13 117  78  87   1  62\n",
      "  75  58  74 120 145   0   2 146 158   8 175  46 148 111   3  65 183  30\n",
      " 157 123   5 144 103 135  51 154  32  77  11  63  69 113 153 114 149 159\n",
      " 137 142  66  97 163 107  16  42  19  83  23  28  94 182  70  18 166 173\n",
      " 167 155 128 156 147  35 171  52 106  38  91 118  67  45  49 121  79  14\n",
      "  43  31  64  86  93  26 122  61  48 112 126 115  55 132 127  47 130  90\n",
      " 177 104 180]\n",
      "\n",
      "\n",
      " Here is Info About Buyers Gender:\n",
      "\n",
      "Male                     652\n",
      "Female                   113\n",
      "Other / Non-Disclosed     15\n",
      "Name: Gender, dtype: int64\n",
      "\n",
      "\n",
      "Various (Pertinent Only) Stats from Purchase Data:\n",
      " \n",
      "       Age  Price\n",
      "mean 22.71  $3.05\n",
      "std   6.66  $1.17\n",
      "min   7.00  $1.00\n",
      "25%  20.00  $1.98\n",
      "50%  22.00  $3.15\n",
      "75%  25.00  $4.08\n",
      "max  45.00  $4.99\n"
     ]
    }
   ],
   "source": [
    "pd.reset_option('float')\n",
    "print(\"\\nStats of Numerical Columns: \\n\")\n",
    "#print(purchase_data.shift().describe())\n",
    "pd.options.display.float_format = '{:,.2f}'.format\n",
    "purchase_data_stats=purchase_data.describe()\n",
    "print(purchase_data_stats)\n",
    "\n",
    "\n",
    "unqItems=len(purchase_data[\"Item ID\"].unique())\n",
    "print(\"\\n\\n# of Unique Items: \" , unqItems, \"\\n\")\n",
    "print(f\"These {unqItems} Unique Items Are Listed Below: \\n\")\n",
    "print(purchase_data[\"Item ID\"].unique())\n",
    "\n",
    "\n",
    "print(\"\\n\\n Here is Info About Buyers Gender:\\n\")\n",
    "purchase_data_genders=purchase_data[\"Gender\"].value_counts()\n",
    "print(purchase_data_genders)\n",
    "\n",
    "\n",
    "pd.options.display.float_format = '{:,.2f}'.format\n",
    "purchase_data_stats['Price'] = purchase_data_stats['Price'].map('${:,.2f}'.format)\n",
    "purchase_data_stats.drop([\"Purchase ID\", \"Item ID\"], inplace=True, axis=1)\n",
    "purchase_data_stats.drop([\"count\"], inplace=True, axis=0)\n",
    "print(\"\\n\\nVarious (Pertinent Only) Stats from Purchase Data:\\n \")\n",
    "print(purchase_data_stats)"
   ]
  },
  {
   "cell_type": "markdown",
   "metadata": {},
   "source": [
    "## Gender Demographics"
   ]
  },
  {
   "cell_type": "markdown",
   "metadata": {},
   "source": [
    "* Percentage and Count of Male Players\n",
    "\n",
    "\n",
    "* Percentage and Count of Female Players\n",
    "\n",
    "\n",
    "* Percentage and Count of Other / Non-Disclosed\n",
    "\n",
    "\n"
   ]
  },
  {
   "cell_type": "code",
   "execution_count": 79,
   "metadata": {},
   "outputs": [
    {
     "name": "stdout",
     "output_type": "stream",
     "text": [
      "\n",
      "\n",
      "Gender Demographics:\n",
      "\n",
      "\n",
      "                       Count      % of Total\n",
      "\n",
      "Male                 :   652        83.6\n",
      "\n",
      "Female               :   113        14.5\n",
      "\n",
      "Other / Non-Disclosed:    15         1.9\n"
     ]
    }
   ],
   "source": [
    "gender_classification=purchase_data_genders.index\n",
    "token_max=gender_classification.str.len().max()\n",
    "padding= \" \"\n",
    "for xn in range(token_max):\n",
    "    padding=padding+\" \"\n",
    "print(\"\\n\\nGender Demographics:\")\n",
    "print(\"\\n\\n\"+padding+\" Count      % of Total\")\n",
    "for xn in range(len(purchase_data_genders)):\n",
    "    this_gender=(gender_classification[xn]+padding)[0:token_max]+\":\"\n",
    "    this_number=purchase_data_genders[xn]\n",
    "    this_pctage=100*(this_number/total_buyers)\n",
    "    print(f\"\\n\"+this_gender+'{:{width}.{prec}f}'.format(this_number, width=6, prec=0)+'{:{width}.{prec}f}'.format(this_pctage, width=12, prec=1))"
   ]
  },
  {
   "cell_type": "markdown",
   "metadata": {},
   "source": [
    "\n",
    "## Purchasing Analysis (Gender)"
   ]
  },
  {
   "cell_type": "markdown",
   "metadata": {},
   "source": [
    "* Run basic calculations to obtain purchase count, avg. purchase price, avg. purchase total per person etc. by gender\n",
    "\n",
    "\n",
    "\n",
    "\n",
    "* Create a summary data frame to hold the results\n",
    "\n",
    "\n",
    "* Optional: give the displayed data cleaner formatting\n",
    "\n",
    "\n",
    "* Display the summary data frame"
   ]
  },
  {
   "cell_type": "code",
   "execution_count": 87,
   "metadata": {
    "scrolled": true
   },
   "outputs": [
    {
     "name": "stdout",
     "output_type": "stream",
     "text": [
      "\n",
      "\n",
      "Below Are Purchasing & Age Analysis By Gender:\n",
      "\n",
      "                         Count    Total Price  Avg Price   Min Price   Max Price    Avg Age     Min Age     Max Age   \n",
      "Male                      652       1967.64      3.02        1.00        4.99        22.92         7           45\n",
      "Female                    113        361.94      3.20        1.00        4.90        21.35         7           40\n",
      "Other / Non-Disclosed      15         50.19      3.35        1.33        4.75        24.20        15           38\n"
     ]
    },
    {
     "name": "stderr",
     "output_type": "stream",
     "text": [
      "C:\\Users\\rkho1\\Anaconda3\\lib\\site-packages\\pandas\\core\\frame.py:3940: SettingWithCopyWarning: \n",
      "A value is trying to be set on a copy of a slice from a DataFrame\n",
      "\n",
      "See the caveats in the documentation: http://pandas.pydata.org/pandas-docs/stable/indexing.html#indexing-view-versus-copy\n",
      "  errors=errors)\n"
     ]
    }
   ],
   "source": [
    "desc_len=8\n",
    "purch_by_gender=[]\n",
    "stats_by_gender=[]\n",
    "\n",
    "for xn in range(len(gender_classification)):\n",
    "    this_gender=gender_classification[xn]\n",
    "    gender_purch=purchase_data.loc[purchase_data.Gender == this_gender]\n",
    "    gender_purch.drop([\"SN\", \"Item Name\", \"Purchase ID\", \"Item ID\"],axis=1, inplace=True)\n",
    "    purch_by_gender.append(gender_purch)\n",
    "    stats_by_gender.append(gender_purch.describe())\n",
    "\n",
    "num_of_dfs=len(purch_by_gender)\n",
    "stat_lns=[[0] * desc_len] * num_of_dfs \n",
    "sum_price_lns=[]\n",
    "\n",
    "pp=len(padding)\n",
    "print(\"\\n\\nBelow Are Purchasing & Age Analysis By Gender:\\n\")\n",
    "hdgs=padding+'{:^12}{:^12}{:^12}{:^12}{:^12}'.format(\"Count\",\"Total Price\",\"Avg Price\", \"Min Price\", \"Max Price\")\n",
    "hdgs=hdgs+'{:^12}{:^12}{:^12}'.format(\"Avg Age\", \"Min Age\", \"Max Age\")\n",
    "print( hdgs)\n",
    "for xn in range(num_of_dfs):\n",
    "    stat_lns.append(stats_by_gender[xn].values.tolist())\n",
    "    sum_price_lns.append(purch_by_gender[xn][\"Price\"].sum())\n",
    "    #print(gender_classification[xn]+\": \", sum_price_lns[xn])\n",
    "    aln=\"{:<{width}}\".format(gender_classification[xn], width=pp)\n",
    "    aln=aln+\"{:^12.0f}\".format(purch_by_gender[xn].describe().iloc[0,0])\n",
    "    aln=aln+\"{:>9.2f}\".format(sum_price_lns[xn])\n",
    "    aln=aln+\"{:>10.2f}\".format(purch_by_gender[xn].describe().iloc[1,1])\n",
    "    aln=aln+\"{:>12.2f}\".format(purch_by_gender[xn].describe().iloc[3,1])\n",
    "    aln=aln+\"{:>12.2f}\".format(purch_by_gender[xn].describe().iloc[7,1])\n",
    "    aln=aln+\"{:>13.2f}\".format(purch_by_gender[xn].describe().iloc[1,0])\n",
    "    aln=aln+\"{:>10.0f}\".format(purch_by_gender[xn].describe().iloc[3,0])\n",
    "    aln=aln+\"{:>13.0f}\".format(purch_by_gender[xn].describe().iloc[7,0])\n",
    "    print(aln)"
   ]
  },
  {
   "cell_type": "markdown",
   "metadata": {},
   "source": [
    "## Age Demographics"
   ]
  },
  {
   "cell_type": "markdown",
   "metadata": {},
   "source": [
    "* Establish bins for ages\n",
    "\n",
    "\n",
    "* Categorize the existing players using the age bins. Hint: use pd.cut()\n",
    "\n",
    "\n",
    "* Calculate the numbers and percentages by age group\n",
    "\n",
    "\n",
    "* Create a summary data frame to hold the results\n",
    "\n",
    "\n",
    "* Optional: round the percentage column to two decimal points\n",
    "\n",
    "\n",
    "* Display Age Demographics Table\n"
   ]
  },
  {
   "cell_type": "code",
   "execution_count": 81,
   "metadata": {},
   "outputs": [
    {
     "name": "stdout",
     "output_type": "stream",
     "text": [
      "\n",
      "\n",
      "Age Demographics:    (Total Purches Are 780)\n",
      "\n",
      "           Age Group      # of Purchases      %age of Total\n",
      "\n",
      "           Up to 10              32                4.10\n",
      "           11 to 20             254               32.56\n",
      "           21 to 30             402               51.54\n",
      "           31 to 40              85               10.90\n",
      "           41 to 50               7                0.90\n",
      "           51 to 60               0                0.00\n"
     ]
    }
   ],
   "source": [
    "purchase_data[\"Age\"].min()\n",
    "purchase_data[\"Age\"].max()\n",
    "reduced_data=purchase_data.copy()\n",
    "purchase_data.head(2)\n",
    "reduced_data.head(2)\n",
    "reduced_data.drop([\"Purchase ID\", \"SN\", \"Item ID\", \"Item Name\"], axis=1, inplace=True) \n",
    "reduced_data.head(2)\n",
    "bin_vals = [0, 10, 20, 30, 40, 50, 60]\n",
    "bin_names = [\"Up to 10\", \"11 to 20\", \"21 to 30\", \"31 to 40\", \"41 to 50\", \"51 to 60\"]\n",
    "reduced_data[\"Age Bins\"] = pd.cut(reduced_data[\"Age\"], bin_vals, labels=bin_names)\n",
    "purchase_data_by_age=reduced_data.groupby(\"Age Bins\")\n",
    "age_bin_counts=purchase_data_by_age[\"Price\"].count()\n",
    "\n",
    "# We know total_buyers\n",
    "print(\"\\n\\nAge Demographics:    (Total Purches Are \"+str(total_buyers)+\")\\n\")\n",
    "print(\"{:>20}{:>20}{:>20}\".format(\"Age Group\", \"# of Purchases\", \"%age of Total\\n\"))\n",
    "for xn in range(len(age_bin_counts)):\n",
    "    this_count=age_bin_counts[xn]\n",
    "    this_pctage=100*(this_count/total_buyers)\n",
    "    print(\"{:>19}{:>16}{:>20.2f}\".format(bin_names[xn],this_count, this_pctage))"
   ]
  },
  {
   "cell_type": "markdown",
   "metadata": {},
   "source": [
    "## Purchasing Analysis (Age)"
   ]
  },
  {
   "cell_type": "markdown",
   "metadata": {},
   "source": [
    "* Bin the purchase_data data frame by age\n",
    "\n",
    "\n",
    "* Run basic calculations to obtain purchase count, avg. purchase price, avg. purchase total per person etc. in the table below\n",
    "\n",
    "\n",
    "* Create a summary data frame to hold the results\n",
    "\n",
    "\n",
    "* Optional: give the displayed data cleaner formatting\n",
    "\n",
    "\n",
    "* Display the summary data frame"
   ]
  },
  {
   "cell_type": "code",
   "execution_count": 82,
   "metadata": {},
   "outputs": [
    {
     "data": {
      "text/html": [
       "<div>\n",
       "<style scoped>\n",
       "    .dataframe tbody tr th:only-of-type {\n",
       "        vertical-align: middle;\n",
       "    }\n",
       "\n",
       "    .dataframe tbody tr th {\n",
       "        vertical-align: top;\n",
       "    }\n",
       "\n",
       "    .dataframe thead tr th {\n",
       "        text-align: left;\n",
       "    }\n",
       "\n",
       "    .dataframe thead tr:last-of-type th {\n",
       "        text-align: right;\n",
       "    }\n",
       "</style>\n",
       "<table border=\"1\" class=\"dataframe\">\n",
       "  <thead>\n",
       "    <tr>\n",
       "      <th></th>\n",
       "      <th colspan=\"8\" halign=\"left\">Age</th>\n",
       "      <th colspan=\"8\" halign=\"left\">Price</th>\n",
       "    </tr>\n",
       "    <tr>\n",
       "      <th></th>\n",
       "      <th>count</th>\n",
       "      <th>mean</th>\n",
       "      <th>std</th>\n",
       "      <th>min</th>\n",
       "      <th>25%</th>\n",
       "      <th>50%</th>\n",
       "      <th>75%</th>\n",
       "      <th>max</th>\n",
       "      <th>count</th>\n",
       "      <th>mean</th>\n",
       "      <th>std</th>\n",
       "      <th>min</th>\n",
       "      <th>25%</th>\n",
       "      <th>50%</th>\n",
       "      <th>75%</th>\n",
       "      <th>max</th>\n",
       "    </tr>\n",
       "    <tr>\n",
       "      <th>Age Bins</th>\n",
       "      <th></th>\n",
       "      <th></th>\n",
       "      <th></th>\n",
       "      <th></th>\n",
       "      <th></th>\n",
       "      <th></th>\n",
       "      <th></th>\n",
       "      <th></th>\n",
       "      <th></th>\n",
       "      <th></th>\n",
       "      <th></th>\n",
       "      <th></th>\n",
       "      <th></th>\n",
       "      <th></th>\n",
       "      <th></th>\n",
       "      <th></th>\n",
       "    </tr>\n",
       "  </thead>\n",
       "  <tbody>\n",
       "    <tr>\n",
       "      <th>Up to 10</th>\n",
       "      <td>32.00</td>\n",
       "      <td>8.47</td>\n",
       "      <td>1.19</td>\n",
       "      <td>7.00</td>\n",
       "      <td>7.00</td>\n",
       "      <td>8.00</td>\n",
       "      <td>10.00</td>\n",
       "      <td>10.00</td>\n",
       "      <td>32.00</td>\n",
       "      <td>3.40</td>\n",
       "      <td>1.00</td>\n",
       "      <td>1.29</td>\n",
       "      <td>2.77</td>\n",
       "      <td>3.50</td>\n",
       "      <td>4.20</td>\n",
       "      <td>4.93</td>\n",
       "    </tr>\n",
       "    <tr>\n",
       "      <th>11 to 20</th>\n",
       "      <td>254.00</td>\n",
       "      <td>17.69</td>\n",
       "      <td>2.47</td>\n",
       "      <td>11.00</td>\n",
       "      <td>16.00</td>\n",
       "      <td>18.00</td>\n",
       "      <td>20.00</td>\n",
       "      <td>20.00</td>\n",
       "      <td>254.00</td>\n",
       "      <td>3.06</td>\n",
       "      <td>1.17</td>\n",
       "      <td>1.00</td>\n",
       "      <td>2.04</td>\n",
       "      <td>3.15</td>\n",
       "      <td>4.19</td>\n",
       "      <td>4.94</td>\n",
       "    </tr>\n",
       "    <tr>\n",
       "      <th>21 to 30</th>\n",
       "      <td>402.00</td>\n",
       "      <td>24.05</td>\n",
       "      <td>2.63</td>\n",
       "      <td>21.00</td>\n",
       "      <td>22.00</td>\n",
       "      <td>24.00</td>\n",
       "      <td>25.00</td>\n",
       "      <td>30.00</td>\n",
       "      <td>402.00</td>\n",
       "      <td>2.99</td>\n",
       "      <td>1.19</td>\n",
       "      <td>1.00</td>\n",
       "      <td>1.79</td>\n",
       "      <td>3.10</td>\n",
       "      <td>4.02</td>\n",
       "      <td>4.99</td>\n",
       "    </tr>\n",
       "    <tr>\n",
       "      <th>31 to 40</th>\n",
       "      <td>85.00</td>\n",
       "      <td>35.13</td>\n",
       "      <td>2.69</td>\n",
       "      <td>31.00</td>\n",
       "      <td>33.00</td>\n",
       "      <td>35.00</td>\n",
       "      <td>37.00</td>\n",
       "      <td>40.00</td>\n",
       "      <td>85.00</td>\n",
       "      <td>3.15</td>\n",
       "      <td>1.13</td>\n",
       "      <td>1.02</td>\n",
       "      <td>2.18</td>\n",
       "      <td>3.27</td>\n",
       "      <td>4.07</td>\n",
       "      <td>4.91</td>\n",
       "    </tr>\n",
       "    <tr>\n",
       "      <th>41 to 50</th>\n",
       "      <td>7.00</td>\n",
       "      <td>42.86</td>\n",
       "      <td>1.57</td>\n",
       "      <td>41.00</td>\n",
       "      <td>41.50</td>\n",
       "      <td>43.00</td>\n",
       "      <td>44.00</td>\n",
       "      <td>45.00</td>\n",
       "      <td>7.00</td>\n",
       "      <td>3.08</td>\n",
       "      <td>1.32</td>\n",
       "      <td>1.61</td>\n",
       "      <td>1.83</td>\n",
       "      <td>3.39</td>\n",
       "      <td>3.96</td>\n",
       "      <td>4.93</td>\n",
       "    </tr>\n",
       "    <tr>\n",
       "      <th>51 to 60</th>\n",
       "      <td>0.00</td>\n",
       "      <td>nan</td>\n",
       "      <td>nan</td>\n",
       "      <td>nan</td>\n",
       "      <td>nan</td>\n",
       "      <td>nan</td>\n",
       "      <td>nan</td>\n",
       "      <td>nan</td>\n",
       "      <td>0.00</td>\n",
       "      <td>nan</td>\n",
       "      <td>nan</td>\n",
       "      <td>nan</td>\n",
       "      <td>nan</td>\n",
       "      <td>nan</td>\n",
       "      <td>nan</td>\n",
       "      <td>nan</td>\n",
       "    </tr>\n",
       "  </tbody>\n",
       "</table>\n",
       "</div>"
      ],
      "text/plain": [
       "            Age                                           Price            \\\n",
       "          count  mean  std   min   25%   50%   75%   max  count mean  std   \n",
       "Age Bins                                                                    \n",
       "Up to 10  32.00  8.47 1.19  7.00  7.00  8.00 10.00 10.00  32.00 3.40 1.00   \n",
       "11 to 20 254.00 17.69 2.47 11.00 16.00 18.00 20.00 20.00 254.00 3.06 1.17   \n",
       "21 to 30 402.00 24.05 2.63 21.00 22.00 24.00 25.00 30.00 402.00 2.99 1.19   \n",
       "31 to 40  85.00 35.13 2.69 31.00 33.00 35.00 37.00 40.00  85.00 3.15 1.13   \n",
       "41 to 50   7.00 42.86 1.57 41.00 41.50 43.00 44.00 45.00   7.00 3.08 1.32   \n",
       "51 to 60   0.00   nan  nan   nan   nan   nan   nan   nan   0.00  nan  nan   \n",
       "\n",
       "                                   \n",
       "          min  25%  50%  75%  max  \n",
       "Age Bins                           \n",
       "Up to 10 1.29 2.77 3.50 4.20 4.93  \n",
       "11 to 20 1.00 2.04 3.15 4.19 4.94  \n",
       "21 to 30 1.00 1.79 3.10 4.02 4.99  \n",
       "31 to 40 1.02 2.18 3.27 4.07 4.91  \n",
       "41 to 50 1.61 1.83 3.39 3.96 4.93  \n",
       "51 to 60  nan  nan  nan  nan  nan  "
      ]
     },
     "execution_count": 82,
     "metadata": {},
     "output_type": "execute_result"
    }
   ],
   "source": [
    "#Not Needed Columns have been deliberayely dropped previously in order for this display to be meaningfull\n",
    "purchase_data_by_age.describe()"
   ]
  },
  {
   "cell_type": "markdown",
   "metadata": {},
   "source": [
    "## Top Spenders"
   ]
  },
  {
   "cell_type": "markdown",
   "metadata": {},
   "source": [
    "* Run basic calculations to obtain the results in the table below\n",
    "\n",
    "\n",
    "* Create a summary data frame to hold the results\n",
    "\n",
    "\n",
    "* Sort the total purchase value column in descending order\n",
    "\n",
    "\n",
    "* Optional: give the displayed data cleaner formatting\n",
    "\n",
    "\n",
    "* Display a preview of the summary data frame\n",
    "\n"
   ]
  },
  {
   "cell_type": "code",
   "execution_count": 83,
   "metadata": {},
   "outputs": [],
   "source": [
    "#purchase_data"
   ]
  },
  {
   "cell_type": "code",
   "execution_count": 84,
   "metadata": {},
   "outputs": [
    {
     "name": "stdout",
     "output_type": "stream",
     "text": [
      "             Purchase ID  Age  Item ID  Price\n",
      "SN                                           \n",
      "Lisosia93           1630  125      451  18.96\n",
      "Idastidru52         1999   96      527  15.45\n",
      "Chamjask73          1306   66      339  13.83\n",
      "Iral74              2285   84      518  13.62\n",
      "Iskadarya95          713   60      321  13.10\n",
      "Index(['Purchase ID', 'Age', 'Item ID', 'Price'], dtype='object')\n",
      "\n",
      "\n",
      "5 Top Spenders Name & Amounts Are:\n",
      "\n",
      "Lisosia93                     18.96\n",
      "Idastidru52                   15.45\n",
      "Chamjask73                    13.83\n",
      "Iral74                        13.62\n",
      "Iskadarya95                   13.10\n"
     ]
    }
   ],
   "source": [
    "spending_data=purchase_data.copy()\n",
    "#print(spending_data)\n",
    "# Now need to find top 5 so need sorting   \n",
    "top5=spending_data.groupby(\"SN\", as_index=True).sum().sort_values(\"Price\", ascending=False).head(5)\n",
    "print(top5)\n",
    "print(top5.columns)\n",
    "top5index=top5.index\n",
    "print(\"\\n\\n5 Top Spenders Name & Amounts Are:\\n\")\n",
    "for xn in range(len(top5)):\n",
    "    print(\"{:<20}{:>15.2f}\".format(top5index[xn], top5.iloc[xn, 3]))\n"
   ]
  },
  {
   "cell_type": "markdown",
   "metadata": {},
   "source": [
    "## Most Popular Items"
   ]
  },
  {
   "cell_type": "markdown",
   "metadata": {},
   "source": [
    "* Retrieve the Item ID, Item Name, and Item Price columns\n",
    "\n",
    "\n",
    "* Group by Item ID and Item Name. Perform calculations to obtain purchase count, item price, and total purchase value\n",
    "\n",
    "\n",
    "* Create a summary data frame to hold the results\n",
    "\n",
    "\n",
    "* Sort the purchase count column in descending order\n",
    "\n",
    "\n",
    "* Optional: give the displayed data cleaner formatting\n",
    "\n",
    "\n",
    "* Display a preview of the summary data frame\n",
    "\n"
   ]
  },
  {
   "cell_type": "code",
   "execution_count": 85,
   "metadata": {},
   "outputs": [
    {
     "name": "stdout",
     "output_type": "stream",
     "text": [
      "\n",
      "\n",
      " Five (5) Highest Selling Items by Count:\n",
      "\n",
      "                                                      mean   sum  count\n",
      "Item Name                                    Item ID                   \n",
      "Oathbreaker, Last Hope of the Breaking Storm 178      4.23 50.76     12\n",
      "Extraction, Quickblade Of Trembling Hands    108      3.53 31.77      9\n",
      "Nirvana                                      82       4.90 44.10      9\n",
      "Fiery Glass Crusader                         145      4.58 41.22      9\n",
      "Pursuit, Cudgel of Necromancy                19       1.02  8.16      8\n",
      "\n",
      "\n",
      "\n",
      " Five (5) Highest Selling Items by Total Price:\n",
      "\n",
      "                                                      mean   sum  count\n",
      "Item Name                                    Item ID                   \n",
      "Oathbreaker, Last Hope of the Breaking Storm 178      4.23 50.76     12\n",
      "Nirvana                                      82       4.90 44.10      9\n",
      "Fiery Glass Crusader                         145      4.58 41.22      9\n",
      "Final Critic                                 92       4.88 39.04      8\n",
      "Singed Scalpel                               103      4.35 34.80      8\n"
     ]
    }
   ],
   "source": [
    "#data_by_itemid=data.groupby(['Item Name','Item ID'])['Price'].agg(['mean', 'sum', 'count'])\n",
    "#type(data_by_itemid)\n",
    "#aaa=data_by_itemid.sort_values(by=\"count\")\n",
    "#print(aaa)\n",
    "\n",
    "orig_data=purchase_data.copy()\n",
    "data_items=orig_data.groupby([\"Item Name\",\"Item ID\"])[\"Price\"].agg([\"mean\", 'sum', 'count'])\n",
    "sorted_by_count=data_items.sort_values(by='count', ascending=False)\n",
    "print(\"\\n\\n Five (5) Highest Selling Items by Count:\\n\")\n",
    "print(sorted_by_count.head())\n",
    "\n",
    "sorted_by_pricesum=data_items.sort_values(by='sum', ascending=False)\n",
    "print(\"\\n\\n\\n Five (5) Highest Selling Items by Total Price:\\n\")\n",
    "print(sorted_by_pricesum.head())"
   ]
  },
  {
   "cell_type": "markdown",
   "metadata": {},
   "source": [
    "## Most Profitable Items"
   ]
  },
  {
   "cell_type": "markdown",
   "metadata": {},
   "source": [
    "* Sort the above table by total purchase value in descending order\n",
    "\n",
    "\n",
    "* Optional: give the displayed data cleaner formatting\n",
    "\n",
    "\n",
    "* Display a preview of the data frame\n",
    "\n"
   ]
  },
  {
   "cell_type": "code",
   "execution_count": 86,
   "metadata": {
    "scrolled": true
   },
   "outputs": [
    {
     "name": "stdout",
     "output_type": "stream",
     "text": [
      "\n",
      "\n",
      " Please See Above\n",
      "\n"
     ]
    }
   ],
   "source": [
    "print(\"\\n\\n Please See Above\\n\")"
   ]
  }
 ],
 "metadata": {
  "anaconda-cloud": {},
  "kernel_info": {
   "name": "python3"
  },
  "kernelspec": {
   "display_name": "Python 3",
   "language": "python",
   "name": "python3"
  },
  "language_info": {
   "codemirror_mode": {
    "name": "ipython",
    "version": 3
   },
   "file_extension": ".py",
   "mimetype": "text/x-python",
   "name": "python",
   "nbconvert_exporter": "python",
   "pygments_lexer": "ipython3",
   "version": "3.7.3"
  },
  "nteract": {
   "version": "0.2.0"
  }
 },
 "nbformat": 4,
 "nbformat_minor": 2
}
